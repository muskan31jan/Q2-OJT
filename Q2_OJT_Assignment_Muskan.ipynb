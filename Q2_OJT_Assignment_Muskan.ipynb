{
  "nbformat": 4,
  "nbformat_minor": 0,
  "metadata": {
    "colab": {
      "provenance": []
    },
    "kernelspec": {
      "name": "python3",
      "display_name": "Python 3"
    },
    "language_info": {
      "name": "python"
    }
  },
  "cells": [
    {
      "cell_type": "markdown",
      "source": [
        "Q2. Row Echelon Form:"
      ],
      "metadata": {
        "id": "GjrhpEy-jgmB"
      }
    },
    {
      "cell_type": "code",
      "source": [
        "import numpy as np\n",
        "\n",
        "# Set random seed\n",
        "np.random.seed(31)\n",
        "\n",
        "# Create a random 5x5 matrix A with integers between 0 and 9\n",
        "A = np.random.randint(0, 10, size=(5, 5))\n",
        "\n",
        "print(\"Original Matrix A:\")\n",
        "print(A)\n",
        "\n",
        "# Perform elementary row operations to reduce A to row echelon form\n",
        "for i in range(min(A.shape)):\n",
        "    # Find the pivot\n",
        "    pivot_index = np.argmax(A[i:, i]) + i\n",
        "    # Swap rows if necessary\n",
        "    if pivot_index != i:\n",
        "        A[[i, pivot_index]] = A[[pivot_index, i]]\n",
        "    # Make the pivot entry 1\n",
        "    A[i] = A[i] / A[i, i]\n",
        "    # Eliminate entries below the pivot\n",
        "    for j in range(i + 1, A.shape[0]):\n",
        "        A[j] = A[j] - A[j, i] * A[i]\n",
        "\n",
        "print(\"\\nRow Echelon Form of Matrix A:\")\n",
        "print(A)"
      ],
      "metadata": {
        "colab": {
          "base_uri": "https://localhost:8080/"
        },
        "id": "7KlZd6s7jooP",
        "outputId": "42e9b860-b661-4fd8-af25-0a1b7a8838dd"
      },
      "execution_count": 1,
      "outputs": [
        {
          "output_type": "stream",
          "name": "stdout",
          "text": [
            "Original Matrix A:\n",
            "[[2 7 0 2 7]\n",
            " [6 6 2 2 9]\n",
            " [1 7 1 1 4]\n",
            " [6 3 3 2 8]\n",
            " [7 8 1 4 8]]\n",
            "\n",
            "Row Echelon Form of Matrix A:\n",
            "[[1 1 0 0 1]\n",
            " [0 1 0 0 0]\n",
            " [0 0 1 0 0]\n",
            " [0 0 0 1 1]\n",
            " [0 0 0 0 1]]\n"
          ]
        }
      ]
    }
  ]
}